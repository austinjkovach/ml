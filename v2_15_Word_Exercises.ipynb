{
 "cells": [
  {
   "cell_type": "code",
   "execution_count": 1,
   "metadata": {},
   "outputs": [],
   "source": [
    "# 1)\n",
    "# Sequence-to-sequence RNN\n",
    "    Machine translation\n",
    "    predicting the weather\n",
    "    Video captioning\n",
    "    Speech-to-text\n",
    "    Music generation\n",
    "    Identifying Chords to a song\n",
    "    \n",
    "# Sequence-to-vector RNN\n",
    "    classifying music csamples by music genre\n",
    "    analyzing sentiment from text\n",
    "    recommendation system based off of past likes\n",
    "    \n",
    "# Vector-to-sequence RNN\n",
    "    image captioning\n",
    "    creating music playlist based on current artist\n",
    "    generating melody based on set of parameters\n",
    "    locating pedestrians in a picture\n",
    "        (e.g. a video frame from a self-driving car's camera)\n",
    "\n"
   ]
  },
  {
   "cell_type": "code",
   "execution_count": 2,
   "metadata": {},
   "outputs": [],
   "source": [
    "# 2)\n",
    "\n",
    "# How many dimensions must the inputs of an RNN layer have?\n",
    "    3 \n",
    "\n",
    "# What does each dimension represent?\n",
    "    - batch size\n",
    "    - time series\n",
    "    - input data\n",
    "\n",
    "# What about its outputs?\n"
   ]
  },
  {
   "cell_type": "code",
   "execution_count": 3,
   "metadata": {},
   "outputs": [],
   "source": [
    "# 3)\n",
    "\n",
    "# If you want to build a deep sequence-to-sequence RNN, which RNN layers should have return_sequences=True? \n",
    "    all layers\n",
    "\n",
    "# What about sequence-to-vector RNN?\n",
    "    every one except the last"
   ]
  },
  {
   "cell_type": "code",
   "execution_count": 4,
   "metadata": {},
   "outputs": [],
   "source": [
    "# 4)\n",
    "\n",
    "# Suppose you have a daily univariate time series, and you want to forecast the next seven days.\n",
    "# Which RNN architecture should you use?"
   ]
  },
  {
   "cell_type": "code",
   "execution_count": 6,
   "metadata": {},
   "outputs": [],
   "source": [
    "# 5)\n",
    "\n",
    "# What are the main difficulties when training RNNs? How can you handle them?\n",
    "#     - Exploding gradients  - use normalization techniques\n",
    "#         - smaller learning rate\n",
    "#         - saturating activation function (tanh)\n",
    "#         - gradient clipping\n",
    "#         - Layer normaliztion\n",
    "#         - dropout\n",
    "        \n",
    "        \n",
    "#     - Short term memory\n",
    "#         - LSTM cells\n",
    "#         - GRU cells"
   ]
  },
  {
   "cell_type": "code",
   "execution_count": 7,
   "metadata": {},
   "outputs": [],
   "source": [
    "# 6)\n",
    "\n",
    "# Can you sketch the LSTM cell's architecture?\n",
    "#     - No."
   ]
  },
  {
   "cell_type": "code",
   "execution_count": 8,
   "metadata": {},
   "outputs": [],
   "source": [
    "# 7)\n",
    "\n",
    "# Why would you want to use 1D convolutional layers in an RNN?"
   ]
  },
  {
   "cell_type": "code",
   "execution_count": null,
   "metadata": {},
   "outputs": [],
   "source": []
  }
 ],
 "metadata": {
  "kernelspec": {
   "display_name": "Python 3",
   "language": "python",
   "name": "python3"
  },
  "language_info": {
   "codemirror_mode": {
    "name": "ipython",
    "version": 3
   },
   "file_extension": ".py",
   "mimetype": "text/x-python",
   "name": "python",
   "nbconvert_exporter": "python",
   "pygments_lexer": "ipython3",
   "version": "3.7.4"
  }
 },
 "nbformat": 4,
 "nbformat_minor": 2
}

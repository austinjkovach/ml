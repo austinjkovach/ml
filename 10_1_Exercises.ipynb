{
 "cells": [
  {
   "cell_type": "code",
   "execution_count": 1,
   "metadata": {},
   "outputs": [],
   "source": [
    "# 12)\n",
    "# Train a deep MLP on the MNIST dataset\n",
    "# and see if you can get over 98% precision\n",
    "\n",
    "# Just like in the last exercise of Chapter 9, \n",
    "# try adding all the bells and whistles\n",
    "#  - save checkpoints\n",
    "#  - restore the last checkpoint in case of an interruption,\n",
    "#  - add summaries, \n",
    "#  - plot learning curves using TensorBoard"
   ]
  },
  {
   "cell_type": "code",
   "execution_count": 2,
   "metadata": {},
   "outputs": [],
   "source": [
    "from __future__ import absolute_import, division, print_function, unicode_literals\n",
    "\n",
    "import tensorflow as tf"
   ]
  },
  {
   "cell_type": "code",
   "execution_count": 56,
   "metadata": {},
   "outputs": [],
   "source": [
    "(X_train, y_train), (X_test, y_test) = tf.keras.datasets.mnist.load_data()"
   ]
  },
  {
   "cell_type": "code",
   "execution_count": 57,
   "metadata": {},
   "outputs": [],
   "source": [
    "X_train, X_test = X_train / 255.0, X_test / 255.0"
   ]
  },
  {
   "cell_type": "code",
   "execution_count": 5,
   "metadata": {},
   "outputs": [],
   "source": [
    "def create_model():\n",
    "    he_initializer = tf.keras.initializers.he_normal(seed=None)\n",
    "\n",
    "\n",
    "    model = tf.keras.models.Sequential([\n",
    "        tf.keras.layers.Flatten(input_shape=(28, 28)),\n",
    "        tf.keras.layers.Dense(100, activation='relu', kernel_initializer=he_initializer),\n",
    "        tf.keras.layers.Dense(100, activation='relu', kernel_initializer=he_initializer),\n",
    "        tf.keras.layers.Dense(100, activation='relu', kernel_initializer=he_initializer),\n",
    "        tf.keras.layers.Dense(100, activation='relu', kernel_initializer=he_initializer),\n",
    "        tf.keras.layers.Dense(100, activation='relu', kernel_initializer=he_initializer),\n",
    "        tf.keras.layers.Dropout(0.2),\n",
    "        tf.keras.layers.Dense(10, activation='softmax')\n",
    "    ])\n",
    "\n",
    "    model.compile(optimizer='adam', \n",
    "                  loss='sparse_categorical_crossentropy', \n",
    "                  metrics=['accuracy'])\n",
    "    return model"
   ]
  },
  {
   "cell_type": "code",
   "execution_count": 6,
   "metadata": {},
   "outputs": [
    {
     "name": "stdout",
     "output_type": "stream",
     "text": [
      "Model: \"sequential\"\n",
      "_________________________________________________________________\n",
      "Layer (type)                 Output Shape              Param #   \n",
      "=================================================================\n",
      "flatten (Flatten)            (None, 784)               0         \n",
      "_________________________________________________________________\n",
      "dense (Dense)                (None, 100)               78500     \n",
      "_________________________________________________________________\n",
      "dense_1 (Dense)              (None, 100)               10100     \n",
      "_________________________________________________________________\n",
      "dense_2 (Dense)              (None, 100)               10100     \n",
      "_________________________________________________________________\n",
      "dense_3 (Dense)              (None, 100)               10100     \n",
      "_________________________________________________________________\n",
      "dense_4 (Dense)              (None, 100)               10100     \n",
      "_________________________________________________________________\n",
      "dropout (Dropout)            (None, 100)               0         \n",
      "_________________________________________________________________\n",
      "dense_5 (Dense)              (None, 10)                1010      \n",
      "=================================================================\n",
      "Total params: 119,910\n",
      "Trainable params: 119,910\n",
      "Non-trainable params: 0\n",
      "_________________________________________________________________\n"
     ]
    }
   ],
   "source": [
    "model = create_model()\n",
    "model.summary()"
   ]
  },
  {
   "cell_type": "code",
   "execution_count": 7,
   "metadata": {},
   "outputs": [
    {
     "name": "stdout",
     "output_type": "stream",
     "text": [
      "Train on 60000 samples\n",
      "Epoch 1/10\n",
      "60000/60000 [==============================] - 7s 123us/sample - loss: 0.2805 - accuracy: 0.9143\n",
      "Epoch 2/10\n",
      "60000/60000 [==============================] - 6s 95us/sample - loss: 0.1315 - accuracy: 0.9623s - loss:\n",
      "Epoch 3/10\n",
      "60000/60000 [==============================] - 6s 94us/sample - loss: 0.1015 - accuracy: 0.9709s - loss: 0.100\n",
      "Epoch 4/10\n",
      "60000/60000 [==============================] - 6s 94us/sample - loss: 0.0787 - accuracy: 0.9765\n",
      "Epoch 5/10\n",
      "60000/60000 [==============================] - 6s 95us/sample - loss: 0.0673 - accuracy: 0.9803\n",
      "Epoch 6/10\n",
      "60000/60000 [==============================] - 6s 95us/sample - loss: 0.0578 - accuracy: 0.9827\n",
      "Epoch 7/10\n",
      "60000/60000 [==============================] - 6s 94us/sample - loss: 0.0499 - accuracy: 0.9854\n",
      "Epoch 8/10\n",
      "60000/60000 [==============================] - 6s 98us/sample - loss: 0.0447 - accuracy: 0.9865s - loss: 0.0445 - accura\n",
      "Epoch 9/10\n",
      "60000/60000 [==============================] - 6s 95us/sample - loss: 0.0413 - accuracy: 0.9878\n",
      "Epoch 10/10\n",
      "60000/60000 [==============================] - 6s 95us/sample - loss: 0.0373 - accuracy: 0.9888\n"
     ]
    },
    {
     "data": {
      "text/plain": [
       "<tensorflow.python.keras.callbacks.History at 0x15161ad10>"
      ]
     },
     "execution_count": 7,
     "metadata": {},
     "output_type": "execute_result"
    }
   ],
   "source": [
    "model.fit(X_train, y_train, epochs=10)"
   ]
  },
  {
   "cell_type": "code",
   "execution_count": 8,
   "metadata": {},
   "outputs": [
    {
     "name": "stdout",
     "output_type": "stream",
     "text": [
      "10000/1 - 1s - loss: 0.0514 - accuracy: 0.9770\n",
      "Initial model, accuracy: 97.70%\n"
     ]
    }
   ],
   "source": [
    "loss,acc = model.evaluate(X_test,  y_test, verbose=2)\n",
    "print(\"Initial model, accuracy: {:5.2f}%\".format(100*acc))"
   ]
  },
  {
   "cell_type": "code",
   "execution_count": 9,
   "metadata": {},
   "outputs": [],
   "source": [
    "import os\n",
    "checkpoint_path = \"training_1/cp.ckpt\"\n",
    "checkpoint_dir = os.path.dirname(checkpoint_path)"
   ]
  },
  {
   "cell_type": "code",
   "execution_count": 10,
   "metadata": {},
   "outputs": [],
   "source": [
    "# Create a callback that saves the model's weights\n",
    "cp_callback = tf.keras.callbacks.ModelCheckpoint(filepath=checkpoint_path,\n",
    "                                                 save_weights_only=True,\n",
    "                                                 verbose=1)"
   ]
  },
  {
   "cell_type": "code",
   "execution_count": 21,
   "metadata": {},
   "outputs": [
    {
     "name": "stdout",
     "output_type": "stream",
     "text": [
      "Train on 60000 samples, validate on 10000 samples\n",
      "Epoch 1/10\n",
      "59552/60000 [============================>.] - ETA: 0s - loss: 0.0506 - accuracy: 0.9851\n",
      "Epoch 00001: saving model to training_1/cp.ckpt\n",
      "60000/60000 [==============================] - 7s 117us/sample - loss: 0.0507 - accuracy: 0.9851 - val_loss: 0.0967 - val_accuracy: 0.9719\n",
      "Epoch 2/10\n",
      "59680/60000 [============================>.] - ETA: 0s - loss: 0.0439 - accuracy: 0.9871\n",
      "Epoch 00002: saving model to training_1/cp.ckpt\n",
      "60000/60000 [==============================] - 7s 124us/sample - loss: 0.0438 - accuracy: 0.9871 - val_loss: 0.0842 - val_accuracy: 0.9769\n",
      "Epoch 3/10\n",
      "59776/60000 [============================>.] - ETA: 0s - loss: 0.0379 - accuracy: 0.9883\n",
      "Epoch 00003: saving model to training_1/cp.ckpt\n",
      "60000/60000 [==============================] - 8s 127us/sample - loss: 0.0380 - accuracy: 0.9883 - val_loss: 0.1195 - val_accuracy: 0.9742\n",
      "Epoch 4/10\n",
      "59872/60000 [============================>.] - ETA: 0s - loss: 0.0396 - accuracy: 0.9886\n",
      "Epoch 00004: saving model to training_1/cp.ckpt\n",
      "60000/60000 [==============================] - 8s 128us/sample - loss: 0.0396 - accuracy: 0.9886 - val_loss: 0.0963 - val_accuracy: 0.9774\n",
      "Epoch 5/10\n",
      "59744/60000 [============================>.] - ETA: 0s - loss: 0.0338 - accuracy: 0.9898\n",
      "Epoch 00005: saving model to training_1/cp.ckpt\n",
      "60000/60000 [==============================] - 8s 136us/sample - loss: 0.0339 - accuracy: 0.9898 - val_loss: 0.0956 - val_accuracy: 0.9786\n",
      "Epoch 6/10\n",
      "59776/60000 [============================>.] - ETA: 0s - loss: 0.0299 - accuracy: 0.9906\n",
      "Epoch 00006: saving model to training_1/cp.ckpt\n",
      "60000/60000 [==============================] - 8s 126us/sample - loss: 0.0300 - accuracy: 0.9906 - val_loss: 0.1039 - val_accuracy: 0.9772\n",
      "Epoch 7/10\n",
      "59808/60000 [============================>.] - ETA: 0s - loss: 0.0280 - accuracy: 0.9914\n",
      "Epoch 00007: saving model to training_1/cp.ckpt\n",
      "60000/60000 [==============================] - 7s 118us/sample - loss: 0.0281 - accuracy: 0.9913 - val_loss: 0.0993 - val_accuracy: 0.9807\n",
      "Epoch 8/10\n",
      "59392/60000 [============================>.] - ETA: 0s - loss: 0.0282 - accuracy: 0.9916 ETA: 0s - loss: 0.0278 - accuracy:  - ETA: 0s - loss: 0.0278 \n",
      "Epoch 00008: saving model to training_1/cp.ckpt\n",
      "60000/60000 [==============================] - 6s 104us/sample - loss: 0.0284 - accuracy: 0.9916 - val_loss: 0.1246 - val_accuracy: 0.9754\n",
      "Epoch 9/10\n",
      "59584/60000 [============================>.] - ETA: 0s - loss: 0.0252 - accuracy: 0.9922\n",
      "Epoch 00009: saving model to training_1/cp.ckpt\n",
      "60000/60000 [==============================] - 7s 117us/sample - loss: 0.0254 - accuracy: 0.9922 - val_loss: 0.1145 - val_accuracy: 0.9767\n",
      "Epoch 10/10\n",
      "59904/60000 [============================>.] - ETA: 0s - loss: 0.0220 - accuracy: 0.9934\n",
      "Epoch 00010: saving model to training_1/cp.ckpt\n",
      "60000/60000 [==============================] - 7s 115us/sample - loss: 0.0221 - accuracy: 0.9933 - val_loss: 0.1256 - val_accuracy: 0.9760\n"
     ]
    },
    {
     "data": {
      "text/plain": [
       "<tensorflow.python.keras.callbacks.History at 0x13870d290>"
      ]
     },
     "execution_count": 21,
     "metadata": {},
     "output_type": "execute_result"
    }
   ],
   "source": [
    "# Train the model with the new callback\n",
    "model.fit(X_train, \n",
    "          y_train,  \n",
    "          epochs=10,\n",
    "          validation_data=(X_test,y_test),\n",
    "          callbacks=[cp_callback])  # Pass callback to training"
   ]
  },
  {
   "cell_type": "code",
   "execution_count": 11,
   "metadata": {},
   "outputs": [
    {
     "name": "stdout",
     "output_type": "stream",
     "text": [
      "checkpoint                  cp.ckpt.index\r\n",
      "cp.ckpt.data-00000-of-00001\r\n"
     ]
    }
   ],
   "source": [
    "!ls {checkpoint_dir}"
   ]
  },
  {
   "cell_type": "code",
   "execution_count": 12,
   "metadata": {},
   "outputs": [
    {
     "name": "stdout",
     "output_type": "stream",
     "text": [
      "10000/1 - 1s - loss: 2.4328 - accuracy: 0.1203\n",
      "Untrained model, accuracy: 12.03%\n"
     ]
    }
   ],
   "source": [
    "# Create a basic model instance\n",
    "model_2 = create_model()\n",
    "\n",
    "# Evaluate the model\n",
    "loss, acc = model_2.evaluate(X_test, y_test, verbose=2)\n",
    "print(\"Untrained model, accuracy: {:5.2f}%\".format(100*acc))"
   ]
  },
  {
   "cell_type": "code",
   "execution_count": 13,
   "metadata": {},
   "outputs": [
    {
     "name": "stdout",
     "output_type": "stream",
     "text": [
      "10000/1 - 1s - loss: 0.0955 - accuracy: 0.9504\n",
      "Restored model, accuracy: 95.04%\n"
     ]
    }
   ],
   "source": [
    "model_2.load_weights(checkpoint_path)\n",
    "\n",
    "# Re-evaluate the model\n",
    "loss,acc = model_2.evaluate(X_test,  y_test, verbose=2)\n",
    "print(\"Restored model, accuracy: {:5.2f}%\".format(100*acc))"
   ]
  },
  {
   "cell_type": "code",
   "execution_count": 35,
   "metadata": {},
   "outputs": [],
   "source": [
    "#=======================================#\n",
    "# Doing it again, but with save_freq=5  #\n",
    "# (save every 5 epochs)                 #\n",
    "#=======================================#"
   ]
  },
  {
   "cell_type": "code",
   "execution_count": 59,
   "metadata": {},
   "outputs": [],
   "source": [
    "def create_model():\n",
    "    he_initializer = tf.keras.initializers.he_normal(seed=None)\n",
    "\n",
    "    model = tf.keras.models.Sequential([\n",
    "        tf.keras.layers.Flatten(input_shape=(28, 28)),\n",
    "        tf.keras.layers.Dense(100, activation='elu', kernel_initializer=he_initializer),\n",
    "        tf.keras.layers.Dense(100, activation='elu', kernel_initializer=he_initializer),\n",
    "        tf.keras.layers.Dense(100, activation='elu', kernel_initializer=he_initializer),\n",
    "        tf.keras.layers.Dense(100, activation='elu', kernel_initializer=he_initializer),\n",
    "        tf.keras.layers.Dense(100, activation='elu', kernel_initializer=he_initializer),\n",
    "        tf.keras.layers.Dense(100, activation='elu', kernel_initializer=he_initializer),\n",
    "        tf.keras.layers.Dense(100, activation='elu', kernel_initializer=he_initializer),\n",
    "        tf.keras.layers.Dropout(0.4),\n",
    "        tf.keras.layers.Dense(10, activation='softmax')\n",
    "    ])\n",
    "\n",
    "    model.compile(optimizer='adam', \n",
    "                  loss='sparse_categorical_crossentropy', \n",
    "                  metrics=['accuracy'])\n",
    "    return model"
   ]
  },
  {
   "cell_type": "code",
   "execution_count": 60,
   "metadata": {},
   "outputs": [],
   "source": [
    "model = create_model()"
   ]
  },
  {
   "cell_type": "code",
   "execution_count": 61,
   "metadata": {},
   "outputs": [],
   "source": [
    "checkpoint_path = \"training_2/cp.ckpt\"\n",
    "checkpoint_dir = os.path.dirname(checkpoint_path)"
   ]
  },
  {
   "cell_type": "code",
   "execution_count": 62,
   "metadata": {},
   "outputs": [],
   "source": [
    "cp_callback = tf.keras.callbacks.ModelCheckpoint(filepath=checkpoint_path,\n",
    "                                                 save_weights_only=True,\n",
    "                                                 verbose=1, \n",
    "                                                 save_freq=120000) # save_freq is in samples/batches, not epochs"
   ]
  },
  {
   "cell_type": "code",
   "execution_count": 63,
   "metadata": {},
   "outputs": [
    {
     "name": "stdout",
     "output_type": "stream",
     "text": [
      "Train on 60000 samples, validate on 10000 samples\n",
      "Epoch 1/15\n",
      "60000/60000 [==============================] - 10s 163us/sample - loss: 0.3085 - accuracy: 0.9079 - val_loss: 0.1757 - val_accuracy: 0.9481\n",
      "Epoch 2/15\n",
      "59808/60000 [============================>.] - ETA: 0s - loss: 0.1625 - accuracy: 0.9533\n",
      "Epoch 00002: saving model to training_2/cp.ckpt\n",
      "60000/60000 [==============================] - 9s 142us/sample - loss: 0.1623 - accuracy: 0.9533 - val_loss: 0.1667 - val_accuracy: 0.9533\n",
      "Epoch 3/15\n",
      "60000/60000 [==============================] - 7s 117us/sample - loss: 0.1268 - accuracy: 0.9632 - val_loss: 0.1280 - val_accuracy: 0.9631\n",
      "Epoch 4/15\n",
      "59552/60000 [============================>.] - ETA: 0s - loss: 0.1024 - accuracy: 0.9705\n",
      "Epoch 00004: saving model to training_2/cp.ckpt\n",
      "60000/60000 [==============================] - 7s 121us/sample - loss: 0.1024 - accuracy: 0.9704 - val_loss: 0.1218 - val_accuracy: 0.9673\n",
      "Epoch 5/15\n",
      "60000/60000 [==============================] - 7s 121us/sample - loss: 0.0890 - accuracy: 0.9745 - val_loss: 0.1218 - val_accuracy: 0.9665\n",
      "Epoch 6/15\n",
      "59680/60000 [============================>.] - ETA: 0s - loss: 0.0800 - accuracy: 0.9768\n",
      "Epoch 00006: saving model to training_2/cp.ckpt\n",
      "60000/60000 [==============================] - 7s 124us/sample - loss: 0.0803 - accuracy: 0.9768 - val_loss: 0.0960 - val_accuracy: 0.9742\n",
      "Epoch 7/15\n",
      "60000/60000 [==============================] - 7s 119us/sample - loss: 0.0687 - accuracy: 0.9807 - val_loss: 0.1070 - val_accuracy: 0.9750\n",
      "Epoch 8/15\n",
      "59552/60000 [============================>.] - ETA: 0s - loss: 0.0629 - accuracy: 0.9822\n",
      "Epoch 00008: saving model to training_2/cp.ckpt\n",
      "60000/60000 [==============================] - 7s 121us/sample - loss: 0.0627 - accuracy: 0.9822 - val_loss: 0.0933 - val_accuracy: 0.9764\n",
      "Epoch 9/15\n",
      "60000/60000 [==============================] - 7s 125us/sample - loss: 0.0556 - accuracy: 0.9843 - val_loss: 0.1363 - val_accuracy: 0.9659\n",
      "Epoch 10/15\n",
      "59936/60000 [============================>.] - ETA: 0s - loss: 0.0540 - accuracy: 0.9846\n",
      "Epoch 00010: saving model to training_2/cp.ckpt\n",
      "60000/60000 [==============================] - 7s 120us/sample - loss: 0.0540 - accuracy: 0.9846 - val_loss: 0.0972 - val_accuracy: 0.9770\n",
      "Epoch 11/15\n",
      "60000/60000 [==============================] - 8s 135us/sample - loss: 0.0512 - accuracy: 0.9858 - val_loss: 0.1253 - val_accuracy: 0.9730\n",
      "Epoch 12/15\n",
      "59808/60000 [============================>.] - ETA: 0s - loss: 0.0450 - accuracy: 0.9877\n",
      "Epoch 00012: saving model to training_2/cp.ckpt\n",
      "60000/60000 [==============================] - 9s 145us/sample - loss: 0.0450 - accuracy: 0.9877 - val_loss: 0.0959 - val_accuracy: 0.9764\n",
      "Epoch 13/15\n",
      "60000/60000 [==============================] - 11s 188us/sample - loss: 0.0416 - accuracy: 0.9890 - val_loss: 0.1292 - val_accuracy: 0.9735\n",
      "Epoch 14/15\n",
      "59872/60000 [============================>.] - ETA: 0s - loss: 0.0423 - accuracy: 0.9892\n",
      "Epoch 00014: saving model to training_2/cp.ckpt\n",
      "60000/60000 [==============================] - 20s 325us/sample - loss: 0.0423 - accuracy: 0.9892 - val_loss: 0.1327 - val_accuracy: 0.9738\n",
      "Epoch 15/15\n",
      "60000/60000 [==============================] - 13s 210us/sample - loss: 0.0371 - accuracy: 0.9903 - val_loss: 0.1263 - val_accuracy: 0.9756\n"
     ]
    },
    {
     "data": {
      "text/plain": [
       "<tensorflow.python.keras.callbacks.History at 0x1720a2e90>"
      ]
     },
     "execution_count": 63,
     "metadata": {},
     "output_type": "execute_result"
    }
   ],
   "source": [
    "model.fit(X_train, y_train, \n",
    "          epochs=15,\n",
    "          validation_data=(X_test, y_test),\n",
    "          callbacks=[cp_callback])"
   ]
  },
  {
   "cell_type": "code",
   "execution_count": 42,
   "metadata": {},
   "outputs": [],
   "source": [
    "model_2 = create_model()"
   ]
  },
  {
   "cell_type": "code",
   "execution_count": 43,
   "metadata": {},
   "outputs": [
    {
     "name": "stdout",
     "output_type": "stream",
     "text": [
      "10000/1 - 1s - loss: 2.3976 - accuracy: 0.0928\n",
      "Untrained model, accuracy:  9.28%\n"
     ]
    }
   ],
   "source": [
    "# Evaluate the model\n",
    "loss, acc = model_2.evaluate(X_test, y_test, verbose=2)\n",
    "print(\"Untrained model, accuracy: {:5.2f}%\".format(100*acc))"
   ]
  },
  {
   "cell_type": "code",
   "execution_count": 44,
   "metadata": {},
   "outputs": [
    {
     "data": {
      "text/plain": [
       "<tensorflow.python.training.tracking.util.CheckpointLoadStatus at 0x1525faf50>"
      ]
     },
     "execution_count": 44,
     "metadata": {},
     "output_type": "execute_result"
    }
   ],
   "source": [
    "model_2.load_weights(checkpoint_path)"
   ]
  },
  {
   "cell_type": "code",
   "execution_count": 45,
   "metadata": {},
   "outputs": [
    {
     "name": "stdout",
     "output_type": "stream",
     "text": [
      "10000/1 - 1s - loss: 0.0546 - accuracy: 0.9759\n",
      "Loaded weights, accuracy: 97.59%\n"
     ]
    }
   ],
   "source": [
    "# Evaluate the model\n",
    "loss, acc = model_2.evaluate(X_test, y_test, verbose=2)\n",
    "print(\"Loaded weights, accuracy: {:5.2f}%\".format(100*acc))"
   ]
  },
  {
   "cell_type": "code",
   "execution_count": 41,
   "metadata": {},
   "outputs": [
    {
     "name": "stdout",
     "output_type": "stream",
     "text": [
      "10000/1 - 1s - loss: 0.0546 - accuracy: 0.9759\n",
      "model 1 accuracy: 97.59%\n"
     ]
    }
   ],
   "source": [
    "loss_1, acc_1 = model.evaluate(X_test, y_test, verbose=2)\n",
    "print(\"model 1 accuracy: {:5.2f}%\".format(100*acc_1))"
   ]
  },
  {
   "cell_type": "code",
   "execution_count": 24,
   "metadata": {},
   "outputs": [
    {
     "name": "stdout",
     "output_type": "stream",
     "text": [
      "checkpoint\r\n",
      "cp.ckpt.data-00000-of-00001\r\n",
      "cp.ckpt.index\r\n",
      "\u001b[1m\u001b[36mcp.ckpt_temp_e48150c0b6074e959c8406465e76eb8c\u001b[m\u001b[m\r\n"
     ]
    }
   ],
   "source": [
    "!ls {checkpoint_dir}"
   ]
  },
  {
   "cell_type": "code",
   "execution_count": null,
   "metadata": {},
   "outputs": [],
   "source": []
  }
 ],
 "metadata": {
  "kernelspec": {
   "display_name": "Python 3",
   "language": "python",
   "name": "python3"
  },
  "language_info": {
   "codemirror_mode": {
    "name": "ipython",
    "version": 3
   },
   "file_extension": ".py",
   "mimetype": "text/x-python",
   "name": "python",
   "nbconvert_exporter": "python",
   "pygments_lexer": "ipython3",
   "version": "3.7.4"
  }
 },
 "nbformat": 4,
 "nbformat_minor": 2
}

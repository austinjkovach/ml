{
 "cells": [
  {
   "cell_type": "code",
   "execution_count": 1,
   "metadata": {},
   "outputs": [],
   "source": [
    "# From:\n",
    "# https://datascience.stackexchange.com/questions/48390/how-to-build-an-image-dataset-for-cnn"
   ]
  },
  {
   "cell_type": "code",
   "execution_count": 2,
   "metadata": {},
   "outputs": [],
   "source": [
    "import tensorflow as tf\n",
    "from tensorflow import keras\n",
    "from tensorflow.keras.datasets import mnist\n",
    "import numpy as np"
   ]
  },
  {
   "cell_type": "code",
   "execution_count": 3,
   "metadata": {},
   "outputs": [],
   "source": [
    "#---------------#\n",
    "# Load the data #\n",
    "#---------------#"
   ]
  },
  {
   "cell_type": "code",
   "execution_count": 4,
   "metadata": {},
   "outputs": [],
   "source": [
    "(x_train, y_train), (x_test, y_test) = mnist.load_data()"
   ]
  },
  {
   "cell_type": "code",
   "execution_count": 5,
   "metadata": {},
   "outputs": [],
   "source": [
    "x_train = x_train.astype('float32') / 255.\n",
    "x_test = x_test.astype('float32') / 255."
   ]
  },
  {
   "cell_type": "code",
   "execution_count": 6,
   "metadata": {},
   "outputs": [
    {
     "name": "stdout",
     "output_type": "stream",
     "text": [
      "Training data shape:  (60000, 28, 28)\n",
      "Testing data shape:  (10000, 28, 28)\n"
     ]
    }
   ],
   "source": [
    "print('Training data shape: ', x_train.shape)\n",
    "print('Testing data shape: ', x_test.shape)"
   ]
  },
  {
   "cell_type": "code",
   "execution_count": 7,
   "metadata": {},
   "outputs": [],
   "source": [
    "from __future__ import print_function\n",
    "from tensorflow.keras.models import Sequential\n",
    "from tensorflow.keras.layers import Dense, Dropout, Flatten, Activation\n",
    "from tensorflow.keras.layers import Conv2D, MaxPooling2D, GlobalAvgPool2D\n",
    "from tensorflow.keras.layers import BatchNormalization\n",
    "from tensorflow.keras.callbacks import ModelCheckpoint\n",
    "\n",
    "from tensorflow.keras.models import model_from_json\n",
    "from tensorflow.keras import backend as K"
   ]
  },
  {
   "cell_type": "code",
   "execution_count": 8,
   "metadata": {},
   "outputs": [],
   "source": [
    "#--------------#\n",
    "# Reshape Data #\n",
    "#--------------#\n",
    "\n",
    "# Add channel dimension to numpy matrix\n",
    "# One-hot encode labels\n",
    "# 10 output neurons"
   ]
  },
  {
   "cell_type": "code",
   "execution_count": 9,
   "metadata": {},
   "outputs": [],
   "source": [
    "# The known number of output classes.\n",
    "num_classes = 10\n",
    "\n",
    "# Input image dimensions\n",
    "img_rows, img_cols = 28, 28\n",
    "\n",
    "# Channels go last for TensorFlow backend\n",
    "# Just adding \n",
    "x_train_reshaped = x_train.reshape(x_train.shape[0], img_rows, img_cols, 1)\n",
    "x_test_reshaped = x_test.reshape(x_test.shape[0], img_rows, img_cols, 1)\n",
    "input_shape = (img_rows, img_cols, 1)\n",
    "\n",
    "# Convert class vectors to binary class matrices. \n",
    "# This uses 1 hot encoding.\n",
    "y_train_binary = keras.utils.to_categorical(y_train, num_classes)\n",
    "y_test_binary = keras.utils.to_categorical(y_test, num_classes)"
   ]
  },
  {
   "cell_type": "code",
   "execution_count": 10,
   "metadata": {},
   "outputs": [
    {
     "name": "stdout",
     "output_type": "stream",
     "text": [
      "Before reshaping:  (60000, 28, 28)\n",
      "After reshaping:  (60000, 28, 28, 1)\n"
     ]
    }
   ],
   "source": [
    "print(\"Before reshaping: \", x_train.shape)\n",
    "# (60000, 28, 28)\n",
    "\n",
    "print(\"After reshaping: \", x_train_reshaped.shape)\n",
    "# (60000, 28, 28, 1)"
   ]
  },
  {
   "cell_type": "code",
   "execution_count": 11,
   "metadata": {},
   "outputs": [],
   "source": [
    "#--------------#\n",
    "# Design Model #\n",
    "#--------------#"
   ]
  },
  {
   "cell_type": "code",
   "execution_count": 12,
   "metadata": {},
   "outputs": [],
   "source": [
    "model = Sequential()\n",
    "model.add(Conv2D(32, kernel_size=(3, 3), activation='relu', input_shape=input_shape))\n",
    "model.add(Conv2D(64, (3, 3), activation='relu'))\n",
    "model.add(MaxPooling2D(pool_size=(2, 2)))\n",
    "model.add(Dropout(0.25))\n",
    "model.add(Flatten())\n",
    "model.add(Dense(128, activation='relu'))\n",
    "model.add(Dropout(0.5))\n",
    "model.add(Dense(num_classes, activation='softmax'))"
   ]
  },
  {
   "cell_type": "code",
   "execution_count": 13,
   "metadata": {},
   "outputs": [],
   "source": [
    "model.compile(\n",
    "    loss='categorical_crossentropy',\n",
    "    optimizer='Adam',\n",
    "    metrics=['accuracy']\n",
    ")"
   ]
  },
  {
   "cell_type": "code",
   "execution_count": null,
   "metadata": {},
   "outputs": [],
   "source": [
    "#-------------#\n",
    "# Train Model #\n",
    "#-------------#"
   ]
  },
  {
   "cell_type": "code",
   "execution_count": 14,
   "metadata": {},
   "outputs": [
    {
     "name": "stdout",
     "output_type": "stream",
     "text": [
      "Train on 60000 samples, validate on 10000 samples\n",
      "Epoch 1/4\n",
      "60000/60000 [==============================] - 95s 2ms/sample - loss: 0.2429 - accuracy: 0.9267 - val_loss: 0.0514 - val_accuracy: 0.9850\n",
      "Epoch 2/4\n",
      "60000/60000 [==============================] - 93s 2ms/sample - loss: 0.0909 - accuracy: 0.9729 - val_loss: 0.0390 - val_accuracy: 0.9869\n",
      "Epoch 3/4\n",
      "60000/60000 [==============================] - 93s 2ms/sample - loss: 0.0667 - accuracy: 0.9800 - val_loss: 0.0356 - val_accuracy: 0.9880\n",
      "Epoch 4/4\n",
      "60000/60000 [==============================] - 95s 2ms/sample - loss: 0.0564 - accuracy: 0.9828 - val_loss: 0.0331 - val_accuracy: 0.9896\n"
     ]
    },
    {
     "data": {
      "text/plain": [
       "<tensorflow.python.keras.callbacks.History at 0x130221b10>"
      ]
     },
     "execution_count": 14,
     "metadata": {},
     "output_type": "execute_result"
    }
   ],
   "source": [
    "epochs = 4\n",
    "batch_size = 128\n",
    "\n",
    "# Fit the model weights.\n",
    "model.fit(\n",
    "    x_train_reshaped,\n",
    "    y_train_binary,\n",
    "    batch_size=batch_size,\n",
    "    epochs=epochs,\n",
    "    verbose=1,\n",
    "    validation_data=(x_test_reshaped, y_test_binary)\n",
    ")\n",
    "          "
   ]
  },
  {
   "cell_type": "code",
   "execution_count": 15,
   "metadata": {},
   "outputs": [],
   "source": [
    "# loss: 0.0085\n",
    "# accuracy: 0.9981 \n",
    "# val_loss: 14416.47\n",
    "# val_accuracy: 0.0980\n",
    "\n",
    "# y_train vs x_test\n",
    "# what did the previous output look like?"
   ]
  },
  {
   "cell_type": "code",
   "execution_count": 20,
   "metadata": {},
   "outputs": [],
   "source": [
    "import matplotlib.pyplot as plt"
   ]
  },
  {
   "cell_type": "code",
   "execution_count": 21,
   "metadata": {},
   "outputs": [],
   "source": [
    "my_0 = np.array(tf.keras.preprocessing.image.load_img('datasets/digits/hand_0.jpg', color_mode='grayscale', target_size=(28, 28), interpolation='box'))\n",
    "my_2 = np.array(tf.keras.preprocessing.image.load_img('datasets/digits/hand_2.jpg', color_mode='grayscale', target_size=(28, 28), interpolation='box'))\n",
    "my_5 = np.array(tf.keras.preprocessing.image.load_img('datasets/digits/hand_5.jpg', color_mode='grayscale', target_size=(28, 28), interpolation='box'))\n",
    "my_7 = np.array(tf.keras.preprocessing.image.load_img('datasets/digits/hand_7.jpg', color_mode='grayscale', target_size=(28, 28), interpolation='box'))\n",
    "my_9 = np.array(tf.keras.preprocessing.image.load_img('datasets/digits/hand_9.jpg', color_mode='grayscale', target_size=(28, 28), interpolation='box'))"
   ]
  },
  {
   "cell_type": "code",
   "execution_count": 22,
   "metadata": {},
   "outputs": [],
   "source": [
    "my_digits = np.array([my_0, my_2, my_5, my_7, my_9])"
   ]
  },
  {
   "cell_type": "code",
   "execution_count": 23,
   "metadata": {},
   "outputs": [
    {
     "data": {
      "image/png": "[encoded data removed]",
      "text/plain": [
       "<Figure size 720x720 with 5 Axes>"
      ]
     },
     "metadata": {
      "needs_background": "light"
     },
     "output_type": "display_data"
    }
   ],
   "source": [
    "plt.figure(figsize=(10, 10))\n",
    "for i, path in enumerate(my_digits):\n",
    "    plt.subplot(3, 3, i+1)\n",
    "    plt.imshow(path, cmap='gray')\n",
    "plt.show()"
   ]
  },
  {
   "cell_type": "code",
   "execution_count": 24,
   "metadata": {},
   "outputs": [],
   "source": [
    "my_digits = my_digits.astype('float32') / 255."
   ]
  },
  {
   "cell_type": "code",
   "execution_count": 25,
   "metadata": {},
   "outputs": [],
   "source": [
    "# Invert black/white\n",
    "my_digits = my_digits * -1 + 1"
   ]
  },
  {
   "cell_type": "code",
   "execution_count": 26,
   "metadata": {},
   "outputs": [
    {
     "data": {
      "image/png": "[encoded data removed]",
      "text/plain": [
       "<Figure size 720x720 with 5 Axes>"
      ]
     },
     "metadata": {
      "needs_background": "light"
     },
     "output_type": "display_data"
    }
   ],
   "source": [
    "plt.figure(figsize=(10, 10))\n",
    "for i, path in enumerate(my_digits):\n",
    "    plt.subplot(3, 3, i+1)\n",
    "    plt.imshow(path, cmap='gray')\n",
    "plt.show()"
   ]
  },
  {
   "cell_type": "code",
   "execution_count": 27,
   "metadata": {},
   "outputs": [
    {
     "data": {
      "text/plain": [
       "(5, 28, 28)"
      ]
     },
     "execution_count": 27,
     "metadata": {},
     "output_type": "execute_result"
    }
   ],
   "source": [
    "my_digits.shape"
   ]
  },
  {
   "cell_type": "code",
   "execution_count": 28,
   "metadata": {},
   "outputs": [],
   "source": [
    "my_digits_reshaped = my_digits.reshape(my_digits.shape[0], img_rows, img_cols, 1)"
   ]
  },
  {
   "cell_type": "code",
   "execution_count": 29,
   "metadata": {},
   "outputs": [
    {
     "data": {
      "text/plain": [
       "(5, 28, 28, 1)"
      ]
     },
     "execution_count": 29,
     "metadata": {},
     "output_type": "execute_result"
    }
   ],
   "source": [
    "my_digits_reshaped.shape"
   ]
  },
  {
   "cell_type": "code",
   "execution_count": 30,
   "metadata": {},
   "outputs": [],
   "source": [
    "preds = model.predict(my_digits_reshaped)"
   ]
  },
  {
   "cell_type": "code",
   "execution_count": 31,
   "metadata": {},
   "outputs": [
    {
     "name": "stdout",
     "output_type": "stream",
     "text": [
      "[0.18097761 0.01477003 0.07880157 0.15368156 0.01253398 0.02592279\n",
      " 0.01550766 0.02304042 0.20346549 0.29129896] \n",
      "\n",
      "9 \n",
      "\n",
      "\n",
      "\n",
      "[0.01147197 0.04179603 0.24996048 0.34806168 0.02695424 0.01799178\n",
      " 0.00673244 0.23881239 0.0202729  0.0379461 ] \n",
      "\n",
      "3 \n",
      "\n",
      "\n",
      "\n",
      "[0.00132699 0.00719383 0.01206736 0.4274382  0.00803023 0.4686272\n",
      " 0.01457262 0.00561066 0.01108988 0.04404299] \n",
      "\n",
      "5 \n",
      "\n",
      "\n",
      "\n",
      "[0.00150548 0.05538804 0.03284069 0.01541135 0.01894991 0.00265821\n",
      " 0.00086703 0.844318   0.01918483 0.00887658] \n",
      "\n",
      "7 \n",
      "\n",
      "\n",
      "\n",
      "[0.02544414 0.05522792 0.05882608 0.24143834 0.06672956 0.09250633\n",
      " 0.03393559 0.06792676 0.05794377 0.3000214 ] \n",
      "\n",
      "9 \n",
      "\n",
      "\n",
      "\n"
     ]
    }
   ],
   "source": [
    "for x in preds:\n",
    "    pred = np.argmax(x)\n",
    "    print(x, '\\n')\n",
    "    print(pred, '\\n\\n\\n')"
   ]
  },
  {
   "cell_type": "code",
   "execution_count": null,
   "metadata": {},
   "outputs": [],
   "source": []
  }
 ],
 "metadata": {
  "kernelspec": {
   "display_name": "Python 3",
   "language": "python",
   "name": "python3"
  },
  "language_info": {
   "codemirror_mode": {
    "name": "ipython",
    "version": 3
   },
   "file_extension": ".py",
   "mimetype": "text/x-python",
   "name": "python",
   "nbconvert_exporter": "python",
   "pygments_lexer": "ipython3",
   "version": "3.7.4"
  }
 },
 "nbformat": 4,
 "nbformat_minor": 2
}

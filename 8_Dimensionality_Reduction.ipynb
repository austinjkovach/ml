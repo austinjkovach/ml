{
 "cells": [
  {
   "cell_type": "code",
   "execution_count": 14,
   "metadata": {},
   "outputs": [],
   "source": [
    "from sklearn.datasets import make_swiss_roll\n",
    "import numpy as np"
   ]
  },
  {
   "cell_type": "code",
   "execution_count": 2,
   "metadata": {},
   "outputs": [],
   "source": [
    "X, y = make_swiss_roll()"
   ]
  },
  {
   "cell_type": "code",
   "execution_count": 32,
   "metadata": {},
   "outputs": [],
   "source": [
    "X_centered = X - X.mean(axis=0)\n",
    "U, s, Vt = np.linalg.svd(X_centered)\n",
    "\n",
    "c1 = Vt.T[:, 0]\n",
    "c2 = Vt.T[:, 1]"
   ]
  },
  {
   "cell_type": "code",
   "execution_count": 33,
   "metadata": {},
   "outputs": [
    {
     "name": "stdout",
     "output_type": "stream",
     "text": [
      "[-0.59922414 -0.1672811  -0.78290961]\n",
      "[ 0.67255046  0.42530788 -0.60563115]\n"
     ]
    }
   ],
   "source": [
    "print(c1)\n",
    "print(c2)"
   ]
  },
  {
   "cell_type": "code",
   "execution_count": 34,
   "metadata": {},
   "outputs": [],
   "source": [
    "W2 = Vt.T[:, :2]\n",
    "X2D = X_centered.dot(W2)"
   ]
  },
  {
   "cell_type": "code",
   "execution_count": null,
   "metadata": {},
   "outputs": [],
   "source": [
    "# Principal Component Analysis:\n"
   ]
  },
  {
   "cell_type": "code",
   "execution_count": 31,
   "metadata": {},
   "outputs": [],
   "source": [
    "from sklearn.decomposition import PCA\n",
    "\n",
    "pca = PCA(n_components=2)\n",
    "X2D = pca.fit_transform(X)"
   ]
  },
  {
   "cell_type": "code",
   "execution_count": 12,
   "metadata": {},
   "outputs": [
    {
     "name": "stdout",
     "output_type": "stream",
     "text": [
      "Original dimensions: [9.56561229 9.60653783 9.29435037]\n",
      "2D: [11.52560562  1.13562523]\n"
     ]
    }
   ],
   "source": [
    "print('Original dimensions:', X[0])\n",
    "print('2D:', X2D[0])"
   ]
  },
  {
   "cell_type": "code",
   "execution_count": 37,
   "metadata": {},
   "outputs": [
    {
     "data": {
      "text/plain": [
       "array([0.41443121, 0.31539339])"
      ]
     },
     "execution_count": 37,
     "metadata": {},
     "output_type": "execute_result"
    }
   ],
   "source": [
    "pca.explained_variance_ratio_"
   ]
  },
  {
   "cell_type": "code",
   "execution_count": 43,
   "metadata": {},
   "outputs": [],
   "source": [
    "# Choosing the Right Number of Dimensions\n",
    "pca = PCA()\n",
    "pca.fit(X)\n",
    "cumsum = np.cumsum(pca.explained_variance_ratio_)\n",
    "d = np.argmax(cumsum >= 0.95) + 1"
   ]
  },
  {
   "cell_type": "code",
   "execution_count": 45,
   "metadata": {},
   "outputs": [],
   "source": [
    "# PCA for Compression\n",
    "\n",
    "pca = PCA(n_components = 154)\n",
    "X_reduced = pca.fit_transform(X_train)\n",
    "X_recovered = pca.inverse_transform(X_reduced)"
   ]
  },
  {
   "cell_type": "code",
   "execution_count": 16,
   "metadata": {},
   "outputs": [
    {
     "name": "stdout",
     "output_type": "stream",
     "text": [
      "[[0. 0. 0. ... 0. 0. 0.]\n",
      " [0. 0. 0. ... 0. 0. 0.]\n",
      " [0. 0. 0. ... 0. 0. 0.]\n",
      " ...\n",
      " [0. 0. 0. ... 0. 0. 0.]\n",
      " [0. 0. 0. ... 0. 0. 0.]\n",
      " [0. 0. 0. ... 0. 0. 0.]]\n",
      "['5' '0' '4' ... '4' '5' '6']\n"
     ]
    }
   ],
   "source": [
    "from sklearn.datasets import fetch_openml\n",
    "mnist = fetch_openml('mnist_784')\n",
    "\n",
    "X_train, y_train = mnist[\"data\"], mnist[\"target\"]\n",
    "\n",
    "# fetch_mldata was deprecated in v0.20\n",
    "print(X_train)\n",
    "print(y_train)"
   ]
  },
  {
   "cell_type": "code",
   "execution_count": 17,
   "metadata": {},
   "outputs": [],
   "source": [
    "from sklearn.decomposition import IncrementalPCA\n",
    "\n",
    "n_batches = 100\n",
    "inc_pca = IncrementalPCA(n_components=154)\n",
    "\n",
    "for X_batch in np.array_split(X_train, n_batches):\n",
    "    inc_pca.partial_fit(X_batch)\n",
    "    \n",
    "X_reduced = inc_pca.transform(X_train)"
   ]
  },
  {
   "cell_type": "code",
   "execution_count": 23,
   "metadata": {},
   "outputs": [
    {
     "name": "stdout",
     "output_type": "stream",
     "text": [
      "154\n",
      "784\n"
     ]
    }
   ],
   "source": [
    "# I don't think this is right\n",
    "print(len(X_reduced[0])) ## 154\n",
    "print(len(X_train[0]))   ## 784"
   ]
  },
  {
   "cell_type": "code",
   "execution_count": 24,
   "metadata": {},
   "outputs": [
    {
     "ename": "NameError",
     "evalue": "name 'filename' is not defined",
     "output_type": "error",
     "traceback": [
      "\u001b[0;31m---------------------------------------------------------------------------\u001b[0m",
      "\u001b[0;31mNameError\u001b[0m                                 Traceback (most recent call last)",
      "\u001b[0;32m<ipython-input-24-af0c1de52db5>\u001b[0m in \u001b[0;36m<module>\u001b[0;34m\u001b[0m\n\u001b[0;32m----> 1\u001b[0;31m \u001b[0mX_mm\u001b[0m \u001b[0;34m=\u001b[0m \u001b[0mnp\u001b[0m\u001b[0;34m.\u001b[0m\u001b[0mmemmap\u001b[0m\u001b[0;34m(\u001b[0m\u001b[0mfilename\u001b[0m\u001b[0;34m,\u001b[0m \u001b[0mdtype\u001b[0m\u001b[0;34m=\u001b[0m\u001b[0;34m\"float32\"\u001b[0m\u001b[0;34m,\u001b[0m \u001b[0mmode\u001b[0m\u001b[0;34m=\u001b[0m\u001b[0;34m\"readonly\"\u001b[0m\u001b[0;34m,\u001b[0m \u001b[0mshape\u001b[0m\u001b[0;34m=\u001b[0m\u001b[0;34m(\u001b[0m\u001b[0mm\u001b[0m\u001b[0;34m,\u001b[0m \u001b[0mn\u001b[0m\u001b[0;34m)\u001b[0m\u001b[0;34m)\u001b[0m\u001b[0;34m\u001b[0m\u001b[0;34m\u001b[0m\u001b[0m\n\u001b[0m\u001b[1;32m      2\u001b[0m \u001b[0mbatch_size\u001b[0m \u001b[0;34m=\u001b[0m \u001b[0mm\u001b[0m \u001b[0;34m//\u001b[0m \u001b[0mn_batches\u001b[0m\u001b[0;34m\u001b[0m\u001b[0;34m\u001b[0m\u001b[0m\n\u001b[1;32m      3\u001b[0m \u001b[0minc_pca\u001b[0m \u001b[0;34m=\u001b[0m \u001b[0mIncrementalPCA\u001b[0m\u001b[0;34m(\u001b[0m\u001b[0mn_components\u001b[0m\u001b[0;34m=\u001b[0m\u001b[0;36m154\u001b[0m\u001b[0;34m,\u001b[0m \u001b[0mbatch_size\u001b[0m\u001b[0;34m=\u001b[0m\u001b[0mbatch_size\u001b[0m\u001b[0;34m)\u001b[0m\u001b[0;34m\u001b[0m\u001b[0;34m\u001b[0m\u001b[0m\n\u001b[1;32m      4\u001b[0m \u001b[0minc_pca\u001b[0m\u001b[0;34m.\u001b[0m\u001b[0mfit\u001b[0m\u001b[0;34m(\u001b[0m\u001b[0mX_mm\u001b[0m\u001b[0;34m)\u001b[0m\u001b[0;34m\u001b[0m\u001b[0;34m\u001b[0m\u001b[0m\n",
      "\u001b[0;31mNameError\u001b[0m: name 'filename' is not defined"
     ]
    }
   ],
   "source": [
    "# Example using np.memmap => won't run without external file\n",
    "\n",
    "X_mm = np.memmap(filename, dtype=\"float32\", mode=\"readonly\", shape=(m, n))\n",
    "batch_size = m // n_batches\n",
    "inc_pca = IncrementalPCA(n_components=154, batch_size=batch_size)\n",
    "inc_pca.fit(X_mm)"
   ]
  },
  {
   "cell_type": "code",
   "execution_count": 25,
   "metadata": {},
   "outputs": [],
   "source": [
    "# Randomized PCA:\n",
    "#  - Stochastic algorithm that finds approximation of first d principal components\n",
    "#  - Significantly faster than other algorithms if d is much smaller than n"
   ]
  },
  {
   "cell_type": "code",
   "execution_count": 26,
   "metadata": {},
   "outputs": [],
   "source": [
    "rnd_pca = PCA(n_components=154, svd_solver=\"randomized\")\n",
    "X_reduced = rnd_pca.fit_transform(X_train)"
   ]
  },
  {
   "cell_type": "code",
   "execution_count": 27,
   "metadata": {},
   "outputs": [
    {
     "data": {
      "text/plain": [
       "154"
      ]
     },
     "execution_count": 27,
     "metadata": {},
     "output_type": "execute_result"
    }
   ],
   "source": [
    "len(X_reduced[0])"
   ]
  },
  {
   "cell_type": "code",
   "execution_count": 52,
   "metadata": {},
   "outputs": [],
   "source": [
    "# Kernel PCA:\n",
    "#  - Applies the kernel trick to PCA\n",
    "#    - Makes it possible to perform complex nonlinear projections for dimensionality reduction\n",
    "#    - Is often good at preserving clusters of instances after projection, \n",
    "#      or sometimes unrolling datasets that lie close to a twisted manifold"
   ]
  },
  {
   "cell_type": "code",
   "execution_count": 48,
   "metadata": {},
   "outputs": [],
   "source": [
    "from sklearn.decomposition import KernelPCA\n",
    "\n",
    "rbf_pca = KernelPCA(n_components = 2, kernel=\"rbf\", gamma=0.04)\n",
    "X_reduced = rbf_pca.fit_transform(X)"
   ]
  },
  {
   "cell_type": "code",
   "execution_count": 50,
   "metadata": {},
   "outputs": [
    {
     "name": "stdout",
     "output_type": "stream",
     "text": [
      "X: [[  9.56561229   9.60653783   9.29435037]\n",
      " [  9.17962368  17.86024339   9.73603468]\n",
      " [  3.63687111  16.27361652   6.37012886]\n",
      " [ -8.99692117  10.4283866   -3.99068708]\n",
      " [  1.98603501  18.84781087 -10.99634834]\n",
      " [  0.59245301  19.40260127  -4.79879271]\n",
      " [  6.09979333   2.71868632  -0.80256408]\n",
      " [  4.99117312  18.13469083  12.82945513]\n",
      " [ 11.79667249  13.21833715  -3.42496738]\n",
      " [  4.06187479   4.83865712  -3.76165458]\n",
      " [  0.50571782  19.96296288  -4.79093954]\n",
      " [ 12.54511438   7.1472712   -0.2382997 ]\n",
      " [  3.75743805  16.07810275  13.34375268]\n",
      " [ -3.10371986  12.4277686    7.63330034]\n",
      " [  5.80933885  20.68429125  -9.95251061]\n",
      " [ -2.88564696  19.54608717   7.68936538]\n",
      " [  2.88596173   1.87097079  -4.43283204]\n",
      " [  4.04051982   0.26220694   6.03671701]\n",
      " [ 11.49348173  11.54096795   6.20482456]\n",
      " [ -7.34444383   8.79026932  -7.06476576]\n",
      " [ -7.98831909  11.04395985  -6.14891285]\n",
      " [ 12.57892318   3.12774009   0.17284578]\n",
      " [  1.93646986   4.22276763  13.86379868]\n",
      " [ -3.97576258   9.89023042   7.34299579]\n",
      " [  4.63133649   7.44140239  12.99410784]\n",
      " [ -2.38495108  17.71763168   7.79420224]\n",
      " [  8.59925674   7.50487969  -8.09655622]\n",
      " [ -1.87400754  13.91921688   7.86770839]\n",
      " [  6.27784471   0.09006103   2.01792026]\n",
      " [  2.44393805  10.86217581   7.11509094]\n",
      " [ -8.16831235   8.4167015   -5.84840729]\n",
      " [  1.02199088  20.69912083   7.65329614]\n",
      " [ -8.98854189  14.25347026  -4.01617696]\n",
      " [ 12.13863178  14.71153648   4.40982608]\n",
      " [ -1.30985888   2.84140534   7.91036542]\n",
      " [ -8.12335355   9.35038572   3.8361396 ]\n",
      " [  3.28820403  14.764954    13.50373254]\n",
      " [  6.27551468  19.36169744   2.03221193]\n",
      " [  1.67069815  11.78038598 -11.02010982]\n",
      " [  2.72510798  13.75249942  13.67146761]\n",
      " [ 11.34991797  20.84822861  -4.45364032]\n",
      " [  5.61151953   8.71061784 -10.04378604]\n",
      " [ -9.33895538   4.55034733  -2.61285931]\n",
      " [ 11.83758948  13.71675306   5.35124244]\n",
      " [ -9.38317571  12.98587262  -2.33024248]\n",
      " [ -8.59569825   7.67968406  -5.01794668]\n",
      " [  6.1770196   12.85886391   2.51689387]\n",
      " [  0.58240376   1.89230377  14.0838009 ]\n",
      " [  1.1369725    6.61748351  -4.81191691]\n",
      " [ -9.46971727   2.13530748  -1.37372104]\n",
      " [ -2.38867725  14.26054551   7.79354303]\n",
      " [  2.64377772  19.55079167 -10.9176131 ]\n",
      " [  3.64326375   1.24188556  -4.04701065]\n",
      " [ -9.23581956   3.33037071  -3.12886365]\n",
      " [  4.0865415    3.61829525  -3.74298505]\n",
      " [  6.0778496   17.03886268   2.88008509]\n",
      " [ -9.33943171  20.95165933  -2.61008287]\n",
      " [ -2.67436517  13.30432235   7.7376223 ]\n",
      " [ -8.39774919   8.61710524   3.35829569]\n",
      " [  2.12218263  13.77252251  -4.67942699]\n",
      " [ -7.99658035   0.72464129   4.03597893]\n",
      " [  5.0432062   14.05064803 -10.28131564]\n",
      " [  6.33170301  19.82610872   1.5996701 ]\n",
      " [ -8.89282202  18.0949042    2.2611489 ]\n",
      " [  6.10049173  18.6551172    2.80391745]\n",
      " [ -8.17772635   9.37786172   3.74669227]\n",
      " [  1.03050738  15.2392467   -4.81420461]\n",
      " [  6.00549571   2.89235065  -1.09008087]\n",
      " [  4.32444657  12.22393181   5.7702105 ]\n",
      " [  1.46774142  18.13631308  -4.78989791]\n",
      " [ -8.71233512  16.52312532   2.70783123]\n",
      " [  5.43738621  10.79822376 -10.12040318]\n",
      " [  4.46198724  10.13939695  -3.4297694 ]\n",
      " [ -9.43173505  11.51774702  -1.9243444 ]\n",
      " [  1.86610117  19.95222552 -11.00644899]\n",
      " [  6.14712659   9.93008045   2.63527261]\n",
      " [ 10.00978182  18.74616378  -6.58972165]\n",
      " [ -5.22484371   1.27238712  -9.07692153]\n",
      " [ 12.54638259  11.34819088   2.22232123]\n",
      " [ 11.98004079  20.23582088   4.93642656]\n",
      " [ 12.59507544   9.78317077   1.52023113]\n",
      " [  1.48641555  19.56368668  -4.78798226]\n",
      " [ -6.6612278   19.21868622  -7.84507309]\n",
      " [  3.76913029   0.56873842 -10.68952721]\n",
      " [  7.62187196  15.61309604  11.19006335]\n",
      " [ -5.23670599  18.75836979   6.71590866]\n",
      " [  6.56104715  12.63652473  -9.56249703]\n",
      " [  5.80050132  20.31939668  12.41142889]\n",
      " [ 12.5113874    7.15016347  -0.54163741]\n",
      " [ 10.22616309   7.0738575    8.43499866]\n",
      " [ -4.08804617   5.77615355  -9.77957402]\n",
      " [ -9.06853001   0.81697493   1.74426885]\n",
      " [ 11.80801249  11.63163452  -3.39506593]\n",
      " [  2.36846908   4.29585558  -4.61425313]\n",
      " [ -5.84913643  19.35591438  -8.5970382 ]\n",
      " [  3.22917228   7.48015576  -4.27695299]\n",
      " [  0.39508283  18.3075196  -11.02431925]\n",
      " [  1.54997846  12.5916821   -4.78092204]\n",
      " [ -6.36123149  15.30124742  -8.14200021]\n",
      " [ 11.31747323  17.95300565   6.58394587]]\n",
      "X_reduced: [[-5.65823677e-02 -1.35857563e-02]\n",
      " [-9.39839662e-02 -1.52945178e-02]\n",
      " [-1.57036775e-01 -3.71639060e-02]\n",
      " [-2.76713308e-01 -4.06338721e-01]\n",
      " [-2.69140533e-02  5.51034042e-01]\n",
      " [-1.85277617e-02  6.26955674e-01]\n",
      " [ 5.38299408e-01 -1.84150797e-01]\n",
      " [-1.13130437e-01 -3.89071188e-02]\n",
      " [-8.50038899e-03  1.42499923e-02]\n",
      " [ 8.06175858e-01 -2.25642179e-01]\n",
      " [-2.19119044e-02  5.97497479e-01]\n",
      " [ 2.13564282e-02 -2.60228107e-02]\n",
      " [-1.25375727e-01 -4.88447051e-02]\n",
      " [-2.54433052e-01 -1.73257260e-01]\n",
      " [-2.40908966e-02  3.28808599e-01]\n",
      " [-1.56263948e-01 -9.24363818e-02]\n",
      " [ 6.97138925e-01 -2.25304283e-01]\n",
      " [ 3.26046053e-02 -2.26751268e-02]\n",
      " [-7.59960645e-02 -1.26234632e-02]\n",
      " [-2.12681879e-01 -3.29505197e-01]\n",
      " [-2.47553346e-01 -3.59824115e-01]\n",
      " [ 5.07240841e-02 -3.14840362e-02]\n",
      " [-2.68262668e-02 -6.98490560e-03]\n",
      " [-1.80126774e-01 -1.29663951e-01]\n",
      " [-3.99656801e-02 -1.29516756e-02]\n",
      " [-2.10768015e-01 -1.28940440e-01]\n",
      " [ 1.48028565e-01  2.18891300e-02]\n",
      " [-2.71771455e-01 -1.76023313e-01]\n",
      " [ 2.02682006e-01 -8.08423834e-02]\n",
      " [-1.36051843e-01 -6.95785185e-02]\n",
      " [-2.47815464e-01 -3.80684776e-01]\n",
      " [-1.11360946e-01 -4.55194071e-02]\n",
      " [-1.96318240e-01 -2.55021499e-01]\n",
      " [-8.61866056e-02 -4.12323536e-03]\n",
      " [-2.31229273e-02 -1.31216761e-02]\n",
      " [-1.39856427e-01 -1.42949029e-01]\n",
      " [-1.22308886e-01 -5.00441179e-02]\n",
      " [-1.07804053e-01  6.88061143e-02]\n",
      " [ 6.02890103e-02  1.89207698e-01]\n",
      " [-1.13296128e-01 -4.82738806e-02]\n",
      " [-2.34524276e-02  3.24208279e-02]\n",
      " [ 1.53890924e-01  9.49421146e-02]\n",
      " [-1.50465399e-01 -2.15471312e-01]\n",
      " [-8.84073060e-02 -8.09689759e-03]\n",
      " [-2.20003629e-01 -3.00981175e-01]\n",
      " [-2.43749361e-01 -3.72803370e-01]\n",
      " [-6.59243229e-02  1.08557691e-02]\n",
      " [-2.20530330e-02 -4.90703541e-03]\n",
      " [ 5.56308879e-01 -1.17014547e-01]\n",
      " [-9.65282500e-02 -1.25681478e-01]\n",
      " [-2.72536937e-01 -1.78224589e-01]\n",
      " [-2.90015908e-02  5.37949326e-01]\n",
      " [ 6.62940998e-01 -2.19053822e-01]\n",
      " [-1.25582297e-01 -1.77844470e-01]\n",
      " [ 8.21521665e-01 -2.49986000e-01]\n",
      " [-1.22624275e-01  4.76868542e-02]\n",
      " [-4.18217677e-02 -1.62455931e-02]\n",
      " [-2.68818096e-01 -1.79289058e-01]\n",
      " [-1.35432450e-01 -1.44525085e-01]\n",
      " [ 1.11478234e-01  4.08215610e-01]\n",
      " [-4.25528217e-02 -3.73325587e-02]\n",
      " [ 5.54260873e-02  2.96957825e-01]\n",
      " [-9.93931981e-02  7.40795035e-02]\n",
      " [-7.67402330e-02 -6.21046575e-02]\n",
      " [-1.19525153e-01  5.66074684e-02]\n",
      " [-1.40317514e-01 -1.44452038e-01]\n",
      " [ 5.22454614e-02  5.21124458e-01]\n",
      " [ 5.72838700e-01 -1.93359039e-01]\n",
      " [-1.20676813e-01 -3.95463515e-02]\n",
      " [-3.70341116e-03  6.57616441e-01]\n",
      " [-9.50417637e-02 -8.38282323e-02]\n",
      " [ 1.19651322e-01  1.73796940e-01]\n",
      " [ 3.15640687e-01  6.99696434e-02]\n",
      " [-2.36447626e-01 -3.31245630e-01]\n",
      " [-3.14720597e-02  5.28320783e-01]\n",
      " [ 2.80628091e-03 -1.72002005e-02]\n",
      " [-1.81410888e-02  8.08226741e-02]\n",
      " [-1.45269690e-02 -4.36233534e-02]\n",
      " [-5.07381134e-02 -1.22922071e-02]\n",
      " [-6.36998260e-02  5.93105894e-03]\n",
      " [-2.85302954e-02 -1.66623267e-02]\n",
      " [-1.87314933e-02  6.29949431e-01]\n",
      " [-5.56344365e-02  5.48806354e-02]\n",
      " [ 1.03161531e-01 -3.77406612e-02]\n",
      " [-1.07887847e-01 -2.97843061e-02]\n",
      " [-1.43410949e-01 -9.03349690e-02]\n",
      " [ 8.26640865e-02  2.05085936e-01]\n",
      " [-8.31424103e-02 -2.51625972e-02]\n",
      " [ 2.43445870e-02 -2.60417342e-02]\n",
      " [-3.70663164e-02 -1.04493758e-02]\n",
      " [-2.13128881e-02 -8.75112005e-02]\n",
      " [-5.95723328e-02 -6.34530954e-02]\n",
      " [ 2.68022870e-03  7.27805713e-03]\n",
      " [ 7.65482458e-01 -2.19952834e-01]\n",
      " [-5.02662001e-02  8.99392413e-02]\n",
      " [ 6.05006877e-01 -8.86000084e-02]\n",
      " [-2.69141838e-02  5.00737832e-01]\n",
      " [ 1.54135809e-01  3.15089864e-01]\n",
      " [-9.67506679e-02 -4.01390747e-02]\n",
      " [-8.76503629e-02  1.70453423e-05]]\n"
     ]
    }
   ],
   "source": [
    "print('X:', X)\n",
    "print('X_reduced:', X_reduced)"
   ]
  },
  {
   "cell_type": "code",
   "execution_count": 54,
   "metadata": {},
   "outputs": [],
   "source": [
    "# Selecting a Kernel and Tuning Hyperparameters\n",
    "# kPCA is unsupervised, so there is no obvious performance measure to help select best keernel and hyperparameters\n",
    "\n",
    "# by creating a pipeline, GridSearch will find the best kernel and gamma values for kPCA \n",
    "# in order to get the best classification accuracy at the end of the pipeline"
   ]
  },
  {
   "cell_type": "code",
   "execution_count": 57,
   "metadata": {},
   "outputs": [
    {
     "name": "stderr",
     "output_type": "stream",
     "text": [
      "/Users/austinkovach/Desktop/Odin/machine-learning-geron/venv/lib/python3.7/site-packages/sklearn/linear_model/logistic.py:432: FutureWarning: Default solver will be changed to 'lbfgs' in 0.22. Specify a solver to silence this warning.\n",
      "  FutureWarning)\n",
      "/Users/austinkovach/Desktop/Odin/machine-learning-geron/venv/lib/python3.7/site-packages/sklearn/model_selection/_validation.py:530: FutureWarning: From version 0.22, errors during fit will result in a cross validation score of NaN by default. Use error_score='raise' if you want an exception raised or error_score=np.nan to adopt the behavior from version 0.22.\n",
      "  FutureWarning)\n"
     ]
    },
    {
     "ename": "ValueError",
     "evalue": "Unknown label type: 'continuous'",
     "output_type": "error",
     "traceback": [
      "\u001b[0;31m---------------------------------------------------------------------------\u001b[0m",
      "\u001b[0;31mValueError\u001b[0m                                Traceback (most recent call last)",
      "\u001b[0;32m<ipython-input-57-4780a2790572>\u001b[0m in \u001b[0;36m<module>\u001b[0;34m\u001b[0m\n\u001b[1;32m     15\u001b[0m \u001b[0mgrid_search\u001b[0m \u001b[0;34m=\u001b[0m \u001b[0mGridSearchCV\u001b[0m\u001b[0;34m(\u001b[0m\u001b[0mclf\u001b[0m\u001b[0;34m,\u001b[0m \u001b[0mparam_grid\u001b[0m\u001b[0;34m,\u001b[0m \u001b[0mcv\u001b[0m\u001b[0;34m=\u001b[0m\u001b[0;36m3\u001b[0m\u001b[0;34m)\u001b[0m\u001b[0;34m\u001b[0m\u001b[0;34m\u001b[0m\u001b[0m\n\u001b[1;32m     16\u001b[0m \u001b[0;34m\u001b[0m\u001b[0m\n\u001b[0;32m---> 17\u001b[0;31m \u001b[0mgrid_search\u001b[0m\u001b[0;34m.\u001b[0m\u001b[0mfit\u001b[0m\u001b[0;34m(\u001b[0m\u001b[0mX\u001b[0m\u001b[0;34m,\u001b[0m \u001b[0my\u001b[0m\u001b[0;34m)\u001b[0m\u001b[0;34m\u001b[0m\u001b[0;34m\u001b[0m\u001b[0m\n\u001b[0m",
      "\u001b[0;32m~/Desktop/Odin/machine-learning-geron/venv/lib/python3.7/site-packages/sklearn/model_selection/_search.py\u001b[0m in \u001b[0;36mfit\u001b[0;34m(self, X, y, groups, **fit_params)\u001b[0m\n\u001b[1;32m    686\u001b[0m                 \u001b[0;32mreturn\u001b[0m \u001b[0mresults\u001b[0m\u001b[0;34m\u001b[0m\u001b[0;34m\u001b[0m\u001b[0m\n\u001b[1;32m    687\u001b[0m \u001b[0;34m\u001b[0m\u001b[0m\n\u001b[0;32m--> 688\u001b[0;31m             \u001b[0mself\u001b[0m\u001b[0;34m.\u001b[0m\u001b[0m_run_search\u001b[0m\u001b[0;34m(\u001b[0m\u001b[0mevaluate_candidates\u001b[0m\u001b[0;34m)\u001b[0m\u001b[0;34m\u001b[0m\u001b[0;34m\u001b[0m\u001b[0m\n\u001b[0m\u001b[1;32m    689\u001b[0m \u001b[0;34m\u001b[0m\u001b[0m\n\u001b[1;32m    690\u001b[0m         \u001b[0;31m# For multi-metric evaluation, store the best_index_, best_params_ and\u001b[0m\u001b[0;34m\u001b[0m\u001b[0;34m\u001b[0m\u001b[0;34m\u001b[0m\u001b[0m\n",
      "\u001b[0;32m~/Desktop/Odin/machine-learning-geron/venv/lib/python3.7/site-packages/sklearn/model_selection/_search.py\u001b[0m in \u001b[0;36m_run_search\u001b[0;34m(self, evaluate_candidates)\u001b[0m\n\u001b[1;32m   1147\u001b[0m     \u001b[0;32mdef\u001b[0m \u001b[0m_run_search\u001b[0m\u001b[0;34m(\u001b[0m\u001b[0mself\u001b[0m\u001b[0;34m,\u001b[0m \u001b[0mevaluate_candidates\u001b[0m\u001b[0;34m)\u001b[0m\u001b[0;34m:\u001b[0m\u001b[0;34m\u001b[0m\u001b[0;34m\u001b[0m\u001b[0m\n\u001b[1;32m   1148\u001b[0m         \u001b[0;34m\"\"\"Search all candidates in param_grid\"\"\"\u001b[0m\u001b[0;34m\u001b[0m\u001b[0;34m\u001b[0m\u001b[0m\n\u001b[0;32m-> 1149\u001b[0;31m         \u001b[0mevaluate_candidates\u001b[0m\u001b[0;34m(\u001b[0m\u001b[0mParameterGrid\u001b[0m\u001b[0;34m(\u001b[0m\u001b[0mself\u001b[0m\u001b[0;34m.\u001b[0m\u001b[0mparam_grid\u001b[0m\u001b[0;34m)\u001b[0m\u001b[0;34m)\u001b[0m\u001b[0;34m\u001b[0m\u001b[0;34m\u001b[0m\u001b[0m\n\u001b[0m\u001b[1;32m   1150\u001b[0m \u001b[0;34m\u001b[0m\u001b[0m\n\u001b[1;32m   1151\u001b[0m \u001b[0;34m\u001b[0m\u001b[0m\n",
      "\u001b[0;32m~/Desktop/Odin/machine-learning-geron/venv/lib/python3.7/site-packages/sklearn/model_selection/_search.py\u001b[0m in \u001b[0;36mevaluate_candidates\u001b[0;34m(candidate_params)\u001b[0m\n\u001b[1;32m    665\u001b[0m                                \u001b[0;32mfor\u001b[0m \u001b[0mparameters\u001b[0m\u001b[0;34m,\u001b[0m \u001b[0;34m(\u001b[0m\u001b[0mtrain\u001b[0m\u001b[0;34m,\u001b[0m \u001b[0mtest\u001b[0m\u001b[0;34m)\u001b[0m\u001b[0;34m\u001b[0m\u001b[0;34m\u001b[0m\u001b[0m\n\u001b[1;32m    666\u001b[0m                                in product(candidate_params,\n\u001b[0;32m--> 667\u001b[0;31m                                           cv.split(X, y, groups)))\n\u001b[0m\u001b[1;32m    668\u001b[0m \u001b[0;34m\u001b[0m\u001b[0m\n\u001b[1;32m    669\u001b[0m                 \u001b[0;32mif\u001b[0m \u001b[0mlen\u001b[0m\u001b[0;34m(\u001b[0m\u001b[0mout\u001b[0m\u001b[0;34m)\u001b[0m \u001b[0;34m<\u001b[0m \u001b[0;36m1\u001b[0m\u001b[0;34m:\u001b[0m\u001b[0;34m\u001b[0m\u001b[0;34m\u001b[0m\u001b[0m\n",
      "\u001b[0;32m~/Desktop/Odin/machine-learning-geron/venv/lib/python3.7/site-packages/joblib/parallel.py\u001b[0m in \u001b[0;36m__call__\u001b[0;34m(self, iterable)\u001b[0m\n\u001b[1;32m   1001\u001b[0m             \u001b[0;31m# remaining jobs.\u001b[0m\u001b[0;34m\u001b[0m\u001b[0;34m\u001b[0m\u001b[0;34m\u001b[0m\u001b[0m\n\u001b[1;32m   1002\u001b[0m             \u001b[0mself\u001b[0m\u001b[0;34m.\u001b[0m\u001b[0m_iterating\u001b[0m \u001b[0;34m=\u001b[0m \u001b[0;32mFalse\u001b[0m\u001b[0;34m\u001b[0m\u001b[0;34m\u001b[0m\u001b[0m\n\u001b[0;32m-> 1003\u001b[0;31m             \u001b[0;32mif\u001b[0m \u001b[0mself\u001b[0m\u001b[0;34m.\u001b[0m\u001b[0mdispatch_one_batch\u001b[0m\u001b[0;34m(\u001b[0m\u001b[0miterator\u001b[0m\u001b[0;34m)\u001b[0m\u001b[0;34m:\u001b[0m\u001b[0;34m\u001b[0m\u001b[0;34m\u001b[0m\u001b[0m\n\u001b[0m\u001b[1;32m   1004\u001b[0m                 \u001b[0mself\u001b[0m\u001b[0;34m.\u001b[0m\u001b[0m_iterating\u001b[0m \u001b[0;34m=\u001b[0m \u001b[0mself\u001b[0m\u001b[0;34m.\u001b[0m\u001b[0m_original_iterator\u001b[0m \u001b[0;32mis\u001b[0m \u001b[0;32mnot\u001b[0m \u001b[0;32mNone\u001b[0m\u001b[0;34m\u001b[0m\u001b[0;34m\u001b[0m\u001b[0m\n\u001b[1;32m   1005\u001b[0m \u001b[0;34m\u001b[0m\u001b[0m\n",
      "\u001b[0;32m~/Desktop/Odin/machine-learning-geron/venv/lib/python3.7/site-packages/joblib/parallel.py\u001b[0m in \u001b[0;36mdispatch_one_batch\u001b[0;34m(self, iterator)\u001b[0m\n\u001b[1;32m    832\u001b[0m                 \u001b[0;32mreturn\u001b[0m \u001b[0;32mFalse\u001b[0m\u001b[0;34m\u001b[0m\u001b[0;34m\u001b[0m\u001b[0m\n\u001b[1;32m    833\u001b[0m             \u001b[0;32melse\u001b[0m\u001b[0;34m:\u001b[0m\u001b[0;34m\u001b[0m\u001b[0;34m\u001b[0m\u001b[0m\n\u001b[0;32m--> 834\u001b[0;31m                 \u001b[0mself\u001b[0m\u001b[0;34m.\u001b[0m\u001b[0m_dispatch\u001b[0m\u001b[0;34m(\u001b[0m\u001b[0mtasks\u001b[0m\u001b[0;34m)\u001b[0m\u001b[0;34m\u001b[0m\u001b[0;34m\u001b[0m\u001b[0m\n\u001b[0m\u001b[1;32m    835\u001b[0m                 \u001b[0;32mreturn\u001b[0m \u001b[0;32mTrue\u001b[0m\u001b[0;34m\u001b[0m\u001b[0;34m\u001b[0m\u001b[0m\n\u001b[1;32m    836\u001b[0m \u001b[0;34m\u001b[0m\u001b[0m\n",
      "\u001b[0;32m~/Desktop/Odin/machine-learning-geron/venv/lib/python3.7/site-packages/joblib/parallel.py\u001b[0m in \u001b[0;36m_dispatch\u001b[0;34m(self, batch)\u001b[0m\n\u001b[1;32m    751\u001b[0m         \u001b[0;32mwith\u001b[0m \u001b[0mself\u001b[0m\u001b[0;34m.\u001b[0m\u001b[0m_lock\u001b[0m\u001b[0;34m:\u001b[0m\u001b[0;34m\u001b[0m\u001b[0;34m\u001b[0m\u001b[0m\n\u001b[1;32m    752\u001b[0m             \u001b[0mjob_idx\u001b[0m \u001b[0;34m=\u001b[0m \u001b[0mlen\u001b[0m\u001b[0;34m(\u001b[0m\u001b[0mself\u001b[0m\u001b[0;34m.\u001b[0m\u001b[0m_jobs\u001b[0m\u001b[0;34m)\u001b[0m\u001b[0;34m\u001b[0m\u001b[0;34m\u001b[0m\u001b[0m\n\u001b[0;32m--> 753\u001b[0;31m             \u001b[0mjob\u001b[0m \u001b[0;34m=\u001b[0m \u001b[0mself\u001b[0m\u001b[0;34m.\u001b[0m\u001b[0m_backend\u001b[0m\u001b[0;34m.\u001b[0m\u001b[0mapply_async\u001b[0m\u001b[0;34m(\u001b[0m\u001b[0mbatch\u001b[0m\u001b[0;34m,\u001b[0m \u001b[0mcallback\u001b[0m\u001b[0;34m=\u001b[0m\u001b[0mcb\u001b[0m\u001b[0;34m)\u001b[0m\u001b[0;34m\u001b[0m\u001b[0;34m\u001b[0m\u001b[0m\n\u001b[0m\u001b[1;32m    754\u001b[0m             \u001b[0;31m# A job can complete so quickly than its callback is\u001b[0m\u001b[0;34m\u001b[0m\u001b[0;34m\u001b[0m\u001b[0;34m\u001b[0m\u001b[0m\n\u001b[1;32m    755\u001b[0m             \u001b[0;31m# called before we get here, causing self._jobs to\u001b[0m\u001b[0;34m\u001b[0m\u001b[0;34m\u001b[0m\u001b[0;34m\u001b[0m\u001b[0m\n",
      "\u001b[0;32m~/Desktop/Odin/machine-learning-geron/venv/lib/python3.7/site-packages/joblib/_parallel_backends.py\u001b[0m in \u001b[0;36mapply_async\u001b[0;34m(self, func, callback)\u001b[0m\n\u001b[1;32m    199\u001b[0m     \u001b[0;32mdef\u001b[0m \u001b[0mapply_async\u001b[0m\u001b[0;34m(\u001b[0m\u001b[0mself\u001b[0m\u001b[0;34m,\u001b[0m \u001b[0mfunc\u001b[0m\u001b[0;34m,\u001b[0m \u001b[0mcallback\u001b[0m\u001b[0;34m=\u001b[0m\u001b[0;32mNone\u001b[0m\u001b[0;34m)\u001b[0m\u001b[0;34m:\u001b[0m\u001b[0;34m\u001b[0m\u001b[0;34m\u001b[0m\u001b[0m\n\u001b[1;32m    200\u001b[0m         \u001b[0;34m\"\"\"Schedule a func to be run\"\"\"\u001b[0m\u001b[0;34m\u001b[0m\u001b[0;34m\u001b[0m\u001b[0m\n\u001b[0;32m--> 201\u001b[0;31m         \u001b[0mresult\u001b[0m \u001b[0;34m=\u001b[0m \u001b[0mImmediateResult\u001b[0m\u001b[0;34m(\u001b[0m\u001b[0mfunc\u001b[0m\u001b[0;34m)\u001b[0m\u001b[0;34m\u001b[0m\u001b[0;34m\u001b[0m\u001b[0m\n\u001b[0m\u001b[1;32m    202\u001b[0m         \u001b[0;32mif\u001b[0m \u001b[0mcallback\u001b[0m\u001b[0;34m:\u001b[0m\u001b[0;34m\u001b[0m\u001b[0;34m\u001b[0m\u001b[0m\n\u001b[1;32m    203\u001b[0m             \u001b[0mcallback\u001b[0m\u001b[0;34m(\u001b[0m\u001b[0mresult\u001b[0m\u001b[0;34m)\u001b[0m\u001b[0;34m\u001b[0m\u001b[0;34m\u001b[0m\u001b[0m\n",
      "\u001b[0;32m~/Desktop/Odin/machine-learning-geron/venv/lib/python3.7/site-packages/joblib/_parallel_backends.py\u001b[0m in \u001b[0;36m__init__\u001b[0;34m(self, batch)\u001b[0m\n\u001b[1;32m    580\u001b[0m         \u001b[0;31m# Don't delay the application, to avoid keeping the input\u001b[0m\u001b[0;34m\u001b[0m\u001b[0;34m\u001b[0m\u001b[0;34m\u001b[0m\u001b[0m\n\u001b[1;32m    581\u001b[0m         \u001b[0;31m# arguments in memory\u001b[0m\u001b[0;34m\u001b[0m\u001b[0;34m\u001b[0m\u001b[0;34m\u001b[0m\u001b[0m\n\u001b[0;32m--> 582\u001b[0;31m         \u001b[0mself\u001b[0m\u001b[0;34m.\u001b[0m\u001b[0mresults\u001b[0m \u001b[0;34m=\u001b[0m \u001b[0mbatch\u001b[0m\u001b[0;34m(\u001b[0m\u001b[0;34m)\u001b[0m\u001b[0;34m\u001b[0m\u001b[0;34m\u001b[0m\u001b[0m\n\u001b[0m\u001b[1;32m    583\u001b[0m \u001b[0;34m\u001b[0m\u001b[0m\n\u001b[1;32m    584\u001b[0m     \u001b[0;32mdef\u001b[0m \u001b[0mget\u001b[0m\u001b[0;34m(\u001b[0m\u001b[0mself\u001b[0m\u001b[0;34m)\u001b[0m\u001b[0;34m:\u001b[0m\u001b[0;34m\u001b[0m\u001b[0;34m\u001b[0m\u001b[0m\n",
      "\u001b[0;32m~/Desktop/Odin/machine-learning-geron/venv/lib/python3.7/site-packages/joblib/parallel.py\u001b[0m in \u001b[0;36m__call__\u001b[0;34m(self)\u001b[0m\n\u001b[1;32m    254\u001b[0m         \u001b[0;32mwith\u001b[0m \u001b[0mparallel_backend\u001b[0m\u001b[0;34m(\u001b[0m\u001b[0mself\u001b[0m\u001b[0;34m.\u001b[0m\u001b[0m_backend\u001b[0m\u001b[0;34m,\u001b[0m \u001b[0mn_jobs\u001b[0m\u001b[0;34m=\u001b[0m\u001b[0mself\u001b[0m\u001b[0;34m.\u001b[0m\u001b[0m_n_jobs\u001b[0m\u001b[0;34m)\u001b[0m\u001b[0;34m:\u001b[0m\u001b[0;34m\u001b[0m\u001b[0;34m\u001b[0m\u001b[0m\n\u001b[1;32m    255\u001b[0m             return [func(*args, **kwargs)\n\u001b[0;32m--> 256\u001b[0;31m                     for func, args, kwargs in self.items]\n\u001b[0m\u001b[1;32m    257\u001b[0m \u001b[0;34m\u001b[0m\u001b[0m\n\u001b[1;32m    258\u001b[0m     \u001b[0;32mdef\u001b[0m \u001b[0m__len__\u001b[0m\u001b[0;34m(\u001b[0m\u001b[0mself\u001b[0m\u001b[0;34m)\u001b[0m\u001b[0;34m:\u001b[0m\u001b[0;34m\u001b[0m\u001b[0;34m\u001b[0m\u001b[0m\n",
      "\u001b[0;32m~/Desktop/Odin/machine-learning-geron/venv/lib/python3.7/site-packages/joblib/parallel.py\u001b[0m in \u001b[0;36m<listcomp>\u001b[0;34m(.0)\u001b[0m\n\u001b[1;32m    254\u001b[0m         \u001b[0;32mwith\u001b[0m \u001b[0mparallel_backend\u001b[0m\u001b[0;34m(\u001b[0m\u001b[0mself\u001b[0m\u001b[0;34m.\u001b[0m\u001b[0m_backend\u001b[0m\u001b[0;34m,\u001b[0m \u001b[0mn_jobs\u001b[0m\u001b[0;34m=\u001b[0m\u001b[0mself\u001b[0m\u001b[0;34m.\u001b[0m\u001b[0m_n_jobs\u001b[0m\u001b[0;34m)\u001b[0m\u001b[0;34m:\u001b[0m\u001b[0;34m\u001b[0m\u001b[0;34m\u001b[0m\u001b[0m\n\u001b[1;32m    255\u001b[0m             return [func(*args, **kwargs)\n\u001b[0;32m--> 256\u001b[0;31m                     for func, args, kwargs in self.items]\n\u001b[0m\u001b[1;32m    257\u001b[0m \u001b[0;34m\u001b[0m\u001b[0m\n\u001b[1;32m    258\u001b[0m     \u001b[0;32mdef\u001b[0m \u001b[0m__len__\u001b[0m\u001b[0;34m(\u001b[0m\u001b[0mself\u001b[0m\u001b[0;34m)\u001b[0m\u001b[0;34m:\u001b[0m\u001b[0;34m\u001b[0m\u001b[0;34m\u001b[0m\u001b[0m\n",
      "\u001b[0;32m~/Desktop/Odin/machine-learning-geron/venv/lib/python3.7/site-packages/sklearn/model_selection/_validation.py\u001b[0m in \u001b[0;36m_fit_and_score\u001b[0;34m(estimator, X, y, scorer, train, test, verbose, parameters, fit_params, return_train_score, return_parameters, return_n_test_samples, return_times, return_estimator, error_score)\u001b[0m\n\u001b[1;32m    514\u001b[0m             \u001b[0mestimator\u001b[0m\u001b[0;34m.\u001b[0m\u001b[0mfit\u001b[0m\u001b[0;34m(\u001b[0m\u001b[0mX_train\u001b[0m\u001b[0;34m,\u001b[0m \u001b[0;34m**\u001b[0m\u001b[0mfit_params\u001b[0m\u001b[0;34m)\u001b[0m\u001b[0;34m\u001b[0m\u001b[0;34m\u001b[0m\u001b[0m\n\u001b[1;32m    515\u001b[0m         \u001b[0;32melse\u001b[0m\u001b[0;34m:\u001b[0m\u001b[0;34m\u001b[0m\u001b[0;34m\u001b[0m\u001b[0m\n\u001b[0;32m--> 516\u001b[0;31m             \u001b[0mestimator\u001b[0m\u001b[0;34m.\u001b[0m\u001b[0mfit\u001b[0m\u001b[0;34m(\u001b[0m\u001b[0mX_train\u001b[0m\u001b[0;34m,\u001b[0m \u001b[0my_train\u001b[0m\u001b[0;34m,\u001b[0m \u001b[0;34m**\u001b[0m\u001b[0mfit_params\u001b[0m\u001b[0;34m)\u001b[0m\u001b[0;34m\u001b[0m\u001b[0;34m\u001b[0m\u001b[0m\n\u001b[0m\u001b[1;32m    517\u001b[0m \u001b[0;34m\u001b[0m\u001b[0m\n\u001b[1;32m    518\u001b[0m     \u001b[0;32mexcept\u001b[0m \u001b[0mException\u001b[0m \u001b[0;32mas\u001b[0m \u001b[0me\u001b[0m\u001b[0;34m:\u001b[0m\u001b[0;34m\u001b[0m\u001b[0;34m\u001b[0m\u001b[0m\n",
      "\u001b[0;32m~/Desktop/Odin/machine-learning-geron/venv/lib/python3.7/site-packages/sklearn/pipeline.py\u001b[0m in \u001b[0;36mfit\u001b[0;34m(self, X, y, **fit_params)\u001b[0m\n\u001b[1;32m    354\u001b[0m                                  self._log_message(len(self.steps) - 1)):\n\u001b[1;32m    355\u001b[0m             \u001b[0;32mif\u001b[0m \u001b[0mself\u001b[0m\u001b[0;34m.\u001b[0m\u001b[0m_final_estimator\u001b[0m \u001b[0;34m!=\u001b[0m \u001b[0;34m'passthrough'\u001b[0m\u001b[0;34m:\u001b[0m\u001b[0;34m\u001b[0m\u001b[0;34m\u001b[0m\u001b[0m\n\u001b[0;32m--> 356\u001b[0;31m                 \u001b[0mself\u001b[0m\u001b[0;34m.\u001b[0m\u001b[0m_final_estimator\u001b[0m\u001b[0;34m.\u001b[0m\u001b[0mfit\u001b[0m\u001b[0;34m(\u001b[0m\u001b[0mXt\u001b[0m\u001b[0;34m,\u001b[0m \u001b[0my\u001b[0m\u001b[0;34m,\u001b[0m \u001b[0;34m**\u001b[0m\u001b[0mfit_params\u001b[0m\u001b[0;34m)\u001b[0m\u001b[0;34m\u001b[0m\u001b[0;34m\u001b[0m\u001b[0m\n\u001b[0m\u001b[1;32m    357\u001b[0m         \u001b[0;32mreturn\u001b[0m \u001b[0mself\u001b[0m\u001b[0;34m\u001b[0m\u001b[0;34m\u001b[0m\u001b[0m\n\u001b[1;32m    358\u001b[0m \u001b[0;34m\u001b[0m\u001b[0m\n",
      "\u001b[0;32m~/Desktop/Odin/machine-learning-geron/venv/lib/python3.7/site-packages/sklearn/linear_model/logistic.py\u001b[0m in \u001b[0;36mfit\u001b[0;34m(self, X, y, sample_weight)\u001b[0m\n\u001b[1;32m   1531\u001b[0m         X, y = check_X_y(X, y, accept_sparse='csr', dtype=_dtype, order=\"C\",\n\u001b[1;32m   1532\u001b[0m                          accept_large_sparse=solver != 'liblinear')\n\u001b[0;32m-> 1533\u001b[0;31m         \u001b[0mcheck_classification_targets\u001b[0m\u001b[0;34m(\u001b[0m\u001b[0my\u001b[0m\u001b[0;34m)\u001b[0m\u001b[0;34m\u001b[0m\u001b[0;34m\u001b[0m\u001b[0m\n\u001b[0m\u001b[1;32m   1534\u001b[0m         \u001b[0mself\u001b[0m\u001b[0;34m.\u001b[0m\u001b[0mclasses_\u001b[0m \u001b[0;34m=\u001b[0m \u001b[0mnp\u001b[0m\u001b[0;34m.\u001b[0m\u001b[0munique\u001b[0m\u001b[0;34m(\u001b[0m\u001b[0my\u001b[0m\u001b[0;34m)\u001b[0m\u001b[0;34m\u001b[0m\u001b[0;34m\u001b[0m\u001b[0m\n\u001b[1;32m   1535\u001b[0m         \u001b[0mn_samples\u001b[0m\u001b[0;34m,\u001b[0m \u001b[0mn_features\u001b[0m \u001b[0;34m=\u001b[0m \u001b[0mX\u001b[0m\u001b[0;34m.\u001b[0m\u001b[0mshape\u001b[0m\u001b[0;34m\u001b[0m\u001b[0;34m\u001b[0m\u001b[0m\n",
      "\u001b[0;32m~/Desktop/Odin/machine-learning-geron/venv/lib/python3.7/site-packages/sklearn/utils/multiclass.py\u001b[0m in \u001b[0;36mcheck_classification_targets\u001b[0;34m(y)\u001b[0m\n\u001b[1;32m    167\u001b[0m     if y_type not in ['binary', 'multiclass', 'multiclass-multioutput',\n\u001b[1;32m    168\u001b[0m                       'multilabel-indicator', 'multilabel-sequences']:\n\u001b[0;32m--> 169\u001b[0;31m         \u001b[0;32mraise\u001b[0m \u001b[0mValueError\u001b[0m\u001b[0;34m(\u001b[0m\u001b[0;34m\"Unknown label type: %r\"\u001b[0m \u001b[0;34m%\u001b[0m \u001b[0my_type\u001b[0m\u001b[0;34m)\u001b[0m\u001b[0;34m\u001b[0m\u001b[0;34m\u001b[0m\u001b[0m\n\u001b[0m\u001b[1;32m    170\u001b[0m \u001b[0;34m\u001b[0m\u001b[0m\n\u001b[1;32m    171\u001b[0m \u001b[0;34m\u001b[0m\u001b[0m\n",
      "\u001b[0;31mValueError\u001b[0m: Unknown label type: 'continuous'"
     ]
    }
   ],
   "source": [
    "from sklearn.model_selection import GridSearchCV\n",
    "from sklearn.linear_model import LogisticRegression\n",
    "from sklearn.pipeline import Pipeline\n",
    "\n",
    "clf = Pipeline([\n",
    "    (\"kpca\", KernelPCA(n_components=2)),\n",
    "    (\"log_reg\", LogisticRegression())\n",
    "])\n",
    "\n",
    "param_grid = [{\n",
    "    \"kpca_gamma\": np.linspace(0.03, 0.05, 10),\n",
    "    \"kpca_kernel\": [\"rbf\", \"sigmoid\"]\n",
    "}]\n",
    "\n",
    "grid_search = GridSearchCV(clf, param_grid, cv=3)\n",
    "\n",
    "grid_search.fit(X, y)"
   ]
  },
  {
   "cell_type": "code",
   "execution_count": 59,
   "metadata": {},
   "outputs": [],
   "source": [
    "# Can also find kernel and hyperparameters with lowest reconstruction error\n",
    "# Reconstruction ith kPCA is harder than linear PCA\n",
    "# Because of the kernel trick, training set has been mapped to infinite-dimensional feature space\n",
    "# This means that the reconstruction would lie in feature space, not the original space\n",
    "\n",
    "# Best approximation is to find a point in original space that would map close to the reconstructed point\n",
    "#   - This reconstructed point is the \"pre-image\"\n",
    "# Then measure squared distance from pre-image to original instance\n",
    "# Select kernel and hyperparameters than minimize reconstruction pre-image error\n",
    "\n",
    "# One solution to perform this reconstruction is a supervised regression model\n",
    "#  - projected instances as the training set\n",
    "#  - original instances as targets\n",
    "# Scikit Learn will create this automatically with fit_inverse_transform=True"
   ]
  },
  {
   "cell_type": "code",
   "execution_count": 58,
   "metadata": {},
   "outputs": [],
   "source": [
    "rbf_pca = KernelPCA(n_components = 2, kernel=\"rbf\", gamma=0.0433, fit_inverse_transform=True)\n",
    "\n",
    "X_reduced = rbf_pca.fit_transform(X)\n",
    "X_preimage = rbf_pca.inverse_transform(X_reduced)"
   ]
  },
  {
   "cell_type": "code",
   "execution_count": 61,
   "metadata": {},
   "outputs": [
    {
     "data": {
      "text/plain": [
       "39.810754879335285"
      ]
     },
     "execution_count": 61,
     "metadata": {},
     "output_type": "execute_result"
    }
   ],
   "source": [
    "from sklearn.metrics import mean_squared_error\n",
    "mean_squared_error(X, X_preimage)"
   ]
  },
  {
   "cell_type": "code",
   "execution_count": 62,
   "metadata": {},
   "outputs": [],
   "source": [
    "# LLE:\n",
    "#  Locally Linear Embedding\n",
    "#  non-linear dimensionality reduction (NLDR) technique\n",
    "\n",
    "# Good at unrolling twisted manifolds where there is not much noise\n",
    "\n",
    "# Works by finding k closest neighbors for a training instance,\n",
    "# then reconstructs the training instance as a linear function of these neighbors"
   ]
  },
  {
   "cell_type": "code",
   "execution_count": 63,
   "metadata": {},
   "outputs": [],
   "source": [
    "from sklearn.manifold import LocallyLinearEmbedding\n",
    "\n",
    "lle = LocallyLinearEmbedding(n_components=2, n_neighbors=10)\n",
    "X_reduced = lle.fit_transform(X)"
   ]
  },
  {
   "cell_type": "code",
   "execution_count": 65,
   "metadata": {},
   "outputs": [],
   "source": [
    "# Other dimensionality reduction techniques:\n",
    "\n",
    "# Multidimensional Scaling (MDS)\n",
    "# Isomap\n",
    "# t-Distributed Stochastic Neighbor Embedding (t-SNE)\n",
    "# Linear Discriminant Analysis (LDA)"
   ]
  },
  {
   "cell_type": "code",
   "execution_count": null,
   "metadata": {},
   "outputs": [],
   "source": []
  }
 ],
 "metadata": {
  "kernelspec": {
   "display_name": "Python 3",
   "language": "python",
   "name": "python3"
  },
  "language_info": {
   "codemirror_mode": {
    "name": "ipython",
    "version": 3
   },
   "file_extension": ".py",
   "mimetype": "text/x-python",
   "name": "python",
   "nbconvert_exporter": "python",
   "pygments_lexer": "ipython3",
   "version": "3.7.4"
  }
 },
 "nbformat": 4,
 "nbformat_minor": 2
}
